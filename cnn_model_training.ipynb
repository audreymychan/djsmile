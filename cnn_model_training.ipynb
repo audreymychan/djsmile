{
 "cells": [
  {
   "cell_type": "markdown",
   "metadata": {},
   "source": [
    "# Smile Detection Model Training based on CNN  \n",
    "In this notebook, images that were scrapped from the script `getty_scraper.py` will be pre-processed and used in a Convolutional Neural Network (CNN) to train a model to detect if a person is smiling or not.\n",
    "\n",
    "This notebook can also be used as a guide for any future image processing and neural network training.\n",
    "\n",
    "Note: Some parts of this notebook may require more computer power and time, so it might be a good idea to spin up a server to help process it."
   ]
  },
  {
   "cell_type": "markdown",
   "metadata": {},
   "source": [
    "## Library Imports"
   ]
  },
  {
   "cell_type": "code",
   "execution_count": 1,
   "metadata": {},
   "outputs": [],
   "source": [
    "# !pip install face_recognition\n",
    "# !pip install dlib"
   ]
  },
  {
   "cell_type": "code",
   "execution_count": 47,
   "metadata": {},
   "outputs": [],
   "source": [
    "import os\n",
    "from PIL import Image\n",
    "import face_recognition\n",
    "import numpy as np\n",
    "import matplotlib.pyplot as plt\n",
    "\n",
    "from sklearn.model_selection import train_test_split\n",
    "from sklearn.preprocessing import MinMaxScaler\n",
    "import joblib\n",
    "from sklearn.preprocessing import LabelEncoder\n",
    "\n",
    "from tensorflow.keras.preprocessing.image import ImageDataGenerator, array_to_img, img_to_array\n",
    "from tensorflow.keras.utils import to_categorical\n",
    "from tensorflow.keras.preprocessing.image import ImageDataGenerator\n",
    "import tensorflow as tf\n",
    "from tensorflow import keras\n",
    "from tensorflow.keras.models import Sequential\n",
    "from tensorflow.keras.layers import Input, Conv2D, MaxPooling2D, Dropout, Dense, Flatten\n",
    "from tensorflow.keras.callbacks import EarlyStopping\n",
    "from tensorflow.keras.models import load_model"
   ]
  },
  {
   "cell_type": "markdown",
   "metadata": {},
   "source": [
    "## (example) Using the Image class from PIL\n",
    "Images scraped for 'smile' and 'no smile' are located in the `./images/` directory. Landscape images are roughly all of size 612 x 408 and portraits 408 x 612."
   ]
  },
  {
   "cell_type": "code",
   "execution_count": 3,
   "metadata": {},
   "outputs": [],
   "source": [
    "# load image with Pillow\n",
    "img = Image.open('./images/smile/0.jpg')"
   ]
  },
  {
   "cell_type": "code",
   "execution_count": 4,
   "metadata": {},
   "outputs": [
    {
     "name": "stdout",
     "output_type": "stream",
     "text": [
      "JPEG (612, 408) RGB\n"
     ]
    }
   ],
   "source": [
    "# summarize some details about the image\n",
    "from __future__ import print_function\n",
    "print(img.format, img.size, img.mode)"
   ]
  },
  {
   "cell_type": "code",
   "execution_count": 5,
   "metadata": {},
   "outputs": [],
   "source": [
    "# show the image\n",
    "img.show()"
   ]
  },
  {
   "cell_type": "code",
   "execution_count": 6,
   "metadata": {},
   "outputs": [
    {
     "name": "stdout",
     "output_type": "stream",
     "text": [
      "6080\n"
     ]
    }
   ],
   "source": [
    "# 6080 smile images scrapped\n",
    "list = os.listdir('./images/smile/')\n",
    "number_files = len(list)\n",
    "print(number_files)"
   ]
  },
  {
   "cell_type": "code",
   "execution_count": 7,
   "metadata": {},
   "outputs": [
    {
     "name": "stdout",
     "output_type": "stream",
     "text": [
      "6040\n"
     ]
    }
   ],
   "source": [
    "# 6040 no_smile images scrapped\n",
    "list = os.listdir('./images/no_smile/')\n",
    "number_files = len(list)\n",
    "print(number_files)"
   ]
  },
  {
   "cell_type": "markdown",
   "metadata": {},
   "source": [
    "---"
   ]
  },
  {
   "cell_type": "markdown",
   "metadata": {},
   "source": [
    "# Image Pre-processing Steps:\n",
    "Computers can't just take images and do math on them! We'll need to do some pre-processing before we can train a model. \n",
    "\n",
    "Here are the steps that were taken:\n",
    "1. Using `face_recognition` package to detect location of face in an image\n",
    "2. Convert to grayscale\n",
    "3. Crop image around the face bounding box\n",
    "4. Resize to 100 x 100 px\n",
    "5. Convert into an array\n",
    "6. Transformations (normalization and label encoding)\n",
    "7. Train, test, split"
   ]
  },
  {
   "cell_type": "markdown",
   "metadata": {},
   "source": [
    "## Crop Face and Resize\n",
    "The simplest `face_recognition` library was used to recognize and manipulate faces from Python, built using dlib’s state-of-the-art face recognition with deep learning. The library's documentation can be found [here](https://face-recognition.readthedocs.io/en/latest/index.html).\n",
    "\n",
    "With location of faces detected within each image, the images were cropped with a bounding box around the face and resized down to 100x100 pixels. Smaller and grayscale images are easier and faster to work with (to start!) for CNNs.\n",
    "\n",
    "The processed images were saved in the `./images/` directory under `{term}_gray_crop_face` folders"
   ]
  },
  {
   "cell_type": "code",
   "execution_count": 8,
   "metadata": {},
   "outputs": [],
   "source": [
    "img_width, img_height = (100, 100)\n",
    "search_terms = ['no_smile', 'smile']"
   ]
  },
  {
   "cell_type": "code",
   "execution_count": 9,
   "metadata": {},
   "outputs": [],
   "source": [
    "# iterate through smile and no_smile folder\n",
    "# uncomment to execute again\n",
    "\n",
    "# for term in search_terms:\n",
    "    \n",
    "#     # folder with original images\n",
    "#     orig_path = f'./images/{term}'\n",
    "    \n",
    "#     # folder for processed images\n",
    "#     new_path = f'./images/{term}_gray_crop_face'\n",
    "#     os.makedirs(new_path)\n",
    "    \n",
    "#     # iterate through all images\n",
    "#     for img_filename in os.listdir(orig_path):  \n",
    "       \n",
    "#         if img_filename.endswith('.jpg'): # exclude all other file types\n",
    "#             img = Image.open(f'{orig_path}/{img_filename}')\n",
    "            \n",
    "#             # convert to grayscale\n",
    "#             img_grayscale = img.convert(\"L\")\n",
    "            \n",
    "#             # load image into a numpy array\n",
    "#             image = face_recognition.load_image_file(f'{orig_path}/{img_filename}')\n",
    "            \n",
    "#             # detect face and return top, right, bottom, left face bounding box pixel location\n",
    "#             face_locations = face_recognition.face_locations(image) # can set model = 'cnn' (more accurate but way slower)\n",
    "            \n",
    "#             # only include images with one face identified\n",
    "#             # if multiple faces are identified, the secondary ones might not be linked to the smile or no_smile category labeled by Getty Images\n",
    "#             if len(face_locations) == 1:\n",
    "#                 top, right, bottom, left = face_locations[0]\n",
    "#                 box = (left, top, right, bottom)\n",
    "                \n",
    "#                 # crop face and resize to 100x10\n",
    "#                 img_resized = img_grayscale.resize((img_width, img_height), box = box)\n",
    "                \n",
    "#                 # save new images\n",
    "#                 img_resized.save(f'{new_path}/{img_filename}')"
   ]
  },
  {
   "cell_type": "code",
   "execution_count": 10,
   "metadata": {},
   "outputs": [
    {
     "name": "stdout",
     "output_type": "stream",
     "text": [
      "5201\n"
     ]
    }
   ],
   "source": [
    "# 5201 smile images remaining in dataset\n",
    "list = os.listdir('./images/smile_gray_crop_face')\n",
    "number_files = len(list)\n",
    "print(number_files)"
   ]
  },
  {
   "cell_type": "code",
   "execution_count": 11,
   "metadata": {},
   "outputs": [
    {
     "name": "stdout",
     "output_type": "stream",
     "text": [
      "4495\n"
     ]
    }
   ],
   "source": [
    "# 4495 no_smile images remaining in dataset\n",
    "list = os.listdir('./images/no_smile_gray_crop_face')\n",
    "number_files = len(list)\n",
    "print(number_files)"
   ]
  },
  {
   "cell_type": "markdown",
   "metadata": {},
   "source": [
    "## Convert Images to NumPy Arrays\n",
    "We converted 4400 images each, from the processed smile and no_smile images, to be included in our dataset."
   ]
  },
  {
   "cell_type": "code",
   "execution_count": 12,
   "metadata": {},
   "outputs": [],
   "source": [
    "X = [] # list of arrays with shape (300,300,1) for each image\n",
    "y = [] # smile or no_smile associated with corresponding image\n",
    "\n",
    "# iterate through smile_gray_crop_face and no_smile_gray_crop_face folder\n",
    "for term in search_terms:\n",
    "    path = f'./images/{term}_gray_crop_face'\n",
    "    image_nos = os.listdir(path)\n",
    "    for image_no in range(0, 4400):\n",
    "        img = Image.open(f'{path}/{image_nos[image_no]}')\n",
    "        img_array = img_to_array(img)\n",
    "        X.append(img_array)\n",
    "        y.append(term)"
   ]
  },
  {
   "cell_type": "code",
   "execution_count": 13,
   "metadata": {},
   "outputs": [],
   "source": [
    "# convert to np.array\n",
    "X = np.array(X)\n",
    "y = np.array(y)"
   ]
  },
  {
   "cell_type": "code",
   "execution_count": 14,
   "metadata": {},
   "outputs": [
    {
     "data": {
      "text/plain": [
       "(8800, 100, 100, 1)"
      ]
     },
     "execution_count": 14,
     "metadata": {},
     "output_type": "execute_result"
    }
   ],
   "source": [
    "X.shape"
   ]
  },
  {
   "cell_type": "code",
   "execution_count": 15,
   "metadata": {},
   "outputs": [
    {
     "data": {
      "text/plain": [
       "(8800,)"
      ]
     },
     "execution_count": 15,
     "metadata": {},
     "output_type": "execute_result"
    }
   ],
   "source": [
    "y.shape"
   ]
  },
  {
   "cell_type": "code",
   "execution_count": 16,
   "metadata": {},
   "outputs": [
    {
     "data": {
      "text/plain": [
       "(100, 100, 1)"
      ]
     },
     "execution_count": 16,
     "metadata": {},
     "output_type": "execute_result"
    }
   ],
   "source": [
    "# examples\n",
    "X[0].shape"
   ]
  },
  {
   "cell_type": "code",
   "execution_count": 17,
   "metadata": {},
   "outputs": [
    {
     "data": {
      "image/png": "[encoded data removed]",
      "text/plain": [
       "<PIL.Image.Image image mode=L size=100x100 at 0x1A35F87FD0>"
      ]
     },
     "execution_count": 17,
     "metadata": {},
     "output_type": "execute_result"
    }
   ],
   "source": [
    "array_to_img(X[0])"
   ]
  },
  {
   "cell_type": "code",
   "execution_count": 18,
   "metadata": {},
   "outputs": [
    {
     "data": {
      "text/plain": [
       "'no_smile'"
      ]
     },
     "execution_count": 18,
     "metadata": {},
     "output_type": "execute_result"
    }
   ],
   "source": [
    "y[0]"
   ]
  },
  {
   "cell_type": "code",
   "execution_count": 19,
   "metadata": {},
   "outputs": [
    {
     "data": {
      "image/png": "[encoded data removed]",
      "text/plain": [
       "<PIL.Image.Image image mode=L size=100x100 at 0x10ECFB358>"
      ]
     },
     "execution_count": 19,
     "metadata": {},
     "output_type": "execute_result"
    }
   ],
   "source": [
    "array_to_img(X[100])"
   ]
  },
  {
   "cell_type": "code",
   "execution_count": 20,
   "metadata": {},
   "outputs": [
    {
     "data": {
      "text/plain": [
       "'no_smile'"
      ]
     },
     "execution_count": 20,
     "metadata": {},
     "output_type": "execute_result"
    }
   ],
   "source": [
    "y[100]"
   ]
  },
  {
   "cell_type": "code",
   "execution_count": 21,
   "metadata": {},
   "outputs": [
    {
     "data": {
      "image/png": "[encoded data removed]",
      "text/plain": [
       "<PIL.Image.Image image mode=L size=100x100 at 0x1A3611A198>"
      ]
     },
     "execution_count": 21,
     "metadata": {},
     "output_type": "execute_result"
    }
   ],
   "source": [
    "array_to_img(X[8599])"
   ]
  },
  {
   "cell_type": "code",
   "execution_count": 22,
   "metadata": {},
   "outputs": [
    {
     "data": {
      "text/plain": [
       "'smile'"
      ]
     },
     "execution_count": 22,
     "metadata": {},
     "output_type": "execute_result"
    }
   ],
   "source": [
    "y[8599]"
   ]
  },
  {
   "cell_type": "markdown",
   "metadata": {},
   "source": [
    "## Train Test Split"
   ]
  },
  {
   "cell_type": "code",
   "execution_count": 23,
   "metadata": {},
   "outputs": [],
   "source": [
    "X_train, X_test, y_train, y_test = train_test_split(X, y, test_size = 0.2, random_state = 73, stratify = y)"
   ]
  },
  {
   "cell_type": "markdown",
   "metadata": {},
   "source": [
    "## Transformation (MinMaxScaler and LabelEncoder)"
   ]
  },
  {
   "cell_type": "code",
   "execution_count": 24,
   "metadata": {},
   "outputs": [],
   "source": [
    "# use MinMaxScaler for normalization of X data\n",
    "# reshaped to be able to use MinMaxScaler()\n",
    "X_train = X_train.reshape(X_train.shape[0], img_width*img_height)\n",
    "X_test = X_test.reshape(X_test.shape[0], img_width*img_height)\n",
    "\n",
    "scaler = MinMaxScaler()\n",
    "X_train = scaler.fit_transform(X_train)\n",
    "X_test = scaler.transform(X_test)"
   ]
  },
  {
   "cell_type": "code",
   "execution_count": 25,
   "metadata": {},
   "outputs": [
    {
     "data": {
      "text/plain": [
       "(7040, 10000)"
      ]
     },
     "execution_count": 25,
     "metadata": {},
     "output_type": "execute_result"
    }
   ],
   "source": [
    "X_train.shape"
   ]
  },
  {
   "cell_type": "code",
   "execution_count": 26,
   "metadata": {},
   "outputs": [
    {
     "data": {
      "text/plain": [
       "(1760, 10000)"
      ]
     },
     "execution_count": 26,
     "metadata": {},
     "output_type": "execute_result"
    }
   ],
   "source": [
    "X_test.shape"
   ]
  },
  {
   "cell_type": "code",
   "execution_count": 27,
   "metadata": {},
   "outputs": [
    {
     "data": {
      "text/plain": [
       "['./models/scaler.save']"
      ]
     },
     "execution_count": 27,
     "metadata": {},
     "output_type": "execute_result"
    }
   ],
   "source": [
    "# save scaler\n",
    "scaler_filename = \"./models/scaler.save\"\n",
    "joblib.dump(scaler, scaler_filename) "
   ]
  },
  {
   "cell_type": "code",
   "execution_count": 28,
   "metadata": {},
   "outputs": [],
   "source": [
    "# use LabelEncoder for encoding of y categories\n",
    "# this will be done alphabetically\n",
    "encoder = LabelEncoder()\n",
    "encoder.fit(y_train)\n",
    "encoded_y_train = encoder.transform(y_train)\n",
    "encoded_y_test = encoder.transform(y_test)\n",
    "\n",
    "y_train = to_categorical(encoded_y_train)\n",
    "y_test = to_categorical(encoded_y_test)"
   ]
  },
  {
   "cell_type": "code",
   "execution_count": 29,
   "metadata": {},
   "outputs": [
    {
     "data": {
      "text/plain": [
       "(7040, 2)"
      ]
     },
     "execution_count": 29,
     "metadata": {},
     "output_type": "execute_result"
    }
   ],
   "source": [
    "y_train.shape"
   ]
  },
  {
   "cell_type": "code",
   "execution_count": 30,
   "metadata": {},
   "outputs": [
    {
     "data": {
      "text/plain": [
       "(1760, 2)"
      ]
     },
     "execution_count": 30,
     "metadata": {},
     "output_type": "execute_result"
    }
   ],
   "source": [
    "y_test.shape"
   ]
  },
  {
   "cell_type": "code",
   "execution_count": 31,
   "metadata": {},
   "outputs": [
    {
     "data": {
      "image/png": "[encoded data removed]",
      "text/plain": [
       "<PIL.Image.Image image mode=L size=100x100 at 0x1A360B3128>"
      ]
     },
     "execution_count": 31,
     "metadata": {},
     "output_type": "execute_result"
    }
   ],
   "source": [
    "# examples\n",
    "array_to_img(X_train.reshape(X_train.shape[0], img_width, img_height, 1)[3])"
   ]
  },
  {
   "cell_type": "code",
   "execution_count": 32,
   "metadata": {},
   "outputs": [
    {
     "data": {
      "text/plain": [
       "array([0., 1.], dtype=float32)"
      ]
     },
     "execution_count": 32,
     "metadata": {},
     "output_type": "execute_result"
    }
   ],
   "source": [
    "# labels for [no_smile, smile]\n",
    "y_train[2]"
   ]
  },
  {
   "cell_type": "code",
   "execution_count": 33,
   "metadata": {},
   "outputs": [
    {
     "data": {
      "image/png": "[encoded data removed]",
      "text/plain": [
       "<PIL.Image.Image image mode=L size=100x100 at 0x1A360B3240>"
      ]
     },
     "execution_count": 33,
     "metadata": {},
     "output_type": "execute_result"
    }
   ],
   "source": [
    "array_to_img(X_train.reshape(X_train.shape[0], img_width, img_height, 1)[2000])"
   ]
  },
  {
   "cell_type": "code",
   "execution_count": 34,
   "metadata": {},
   "outputs": [
    {
     "data": {
      "text/plain": [
       "array([1., 0.], dtype=float32)"
      ]
     },
     "execution_count": 34,
     "metadata": {},
     "output_type": "execute_result"
    }
   ],
   "source": [
    "y_train[2000] # [no_smile, smile]"
   ]
  },
  {
   "cell_type": "code",
   "execution_count": 35,
   "metadata": {},
   "outputs": [
    {
     "data": {
      "image/png": "[encoded data removed]",
      "text/plain": [
       "<PIL.Image.Image image mode=L size=100x100 at 0x1A360B3470>"
      ]
     },
     "execution_count": 35,
     "metadata": {},
     "output_type": "execute_result"
    }
   ],
   "source": [
    "array_to_img(X_train.reshape(X_train.shape[0], img_width, img_height, 1)[6878])"
   ]
  },
  {
   "cell_type": "code",
   "execution_count": 36,
   "metadata": {},
   "outputs": [
    {
     "data": {
      "text/plain": [
       "array([1., 0.], dtype=float32)"
      ]
     },
     "execution_count": 36,
     "metadata": {},
     "output_type": "execute_result"
    }
   ],
   "source": [
    "y_train[6878] # [no_smile, smile]"
   ]
  },
  {
   "cell_type": "markdown",
   "metadata": {},
   "source": [
    "---"
   ]
  },
  {
   "cell_type": "markdown",
   "metadata": {},
   "source": [
    "# Modeling Steps:\n",
    "Now we are ready to train our model. \n",
    "\n",
    "Here are the steps that were taken:\n",
    "1. Use `ImageDataGenerator` to configure random transformations and normalization operations on our dataset during training\n",
    "2. Create our CNN model\n",
    "3. Train the model\n",
    "4. Save model"
   ]
  },
  {
   "cell_type": "markdown",
   "metadata": {},
   "source": [
    "## ImageDataGenerator"
   ]
  },
  {
   "cell_type": "code",
   "execution_count": 37,
   "metadata": {},
   "outputs": [],
   "source": [
    "# configure random transformations and normalization operations \n",
    "# to be done on your image data during training\n",
    "datagen = ImageDataGenerator(\n",
    "        rotation_range=30,\n",
    "        width_shift_range=0.1,\n",
    "        height_shift_range=0.1,\n",
    "        shear_range=0.2,\n",
    "        horizontal_flip=True,\n",
    "        fill_mode='nearest')"
   ]
  },
  {
   "cell_type": "code",
   "execution_count": 38,
   "metadata": {},
   "outputs": [],
   "source": [
    "# reshape back to shape to use in model\n",
    "X_train = X_train.reshape(X_train.shape[0], img_width, img_height, 1)\n",
    "X_test = X_test.reshape(X_test.shape[0], img_width, img_height, 1)"
   ]
  },
  {
   "cell_type": "code",
   "execution_count": 39,
   "metadata": {},
   "outputs": [
    {
     "data": {
      "text/plain": [
       "(7040, 100, 100, 1)"
      ]
     },
     "execution_count": 39,
     "metadata": {},
     "output_type": "execute_result"
    }
   ],
   "source": [
    "X_train.shape"
   ]
  },
  {
   "cell_type": "code",
   "execution_count": 40,
   "metadata": {},
   "outputs": [
    {
     "data": {
      "text/plain": [
       "(1760, 100, 100, 1)"
      ]
     },
     "execution_count": 40,
     "metadata": {},
     "output_type": "execute_result"
    }
   ],
   "source": [
    "X_test.shape"
   ]
  },
  {
   "cell_type": "markdown",
   "metadata": {},
   "source": [
    "## Convolutional Neural Network"
   ]
  },
  {
   "cell_type": "code",
   "execution_count": 41,
   "metadata": {},
   "outputs": [
    {
     "name": "stdout",
     "output_type": "stream",
     "text": [
      "(7040, 100, 100, 1)\n",
      "(1760, 100, 100, 1)\n",
      "(7040, 2)\n",
      "(1760, 2)\n"
     ]
    }
   ],
   "source": [
    "# shape is the bane of my existence!\n",
    "# FYI, this is what we are working with\n",
    "print(X_train.shape)\n",
    "print(X_test.shape)\n",
    "print(y_train.shape)\n",
    "print(y_test.shape)"
   ]
  },
  {
   "cell_type": "code",
   "execution_count": 42,
   "metadata": {},
   "outputs": [],
   "source": [
    "# create CNN model with the following 2 conv layers and 1 dense layer\n",
    "model = Sequential()\n",
    "\n",
    "model.add(Conv2D(32, kernel_size=(3, 3), activation='relu', input_shape=(img_width, img_height, 1)))\n",
    "model.add(MaxPooling2D(pool_size=(2, 2)))\n",
    "model.add(Dropout(0.25))\n",
    "model.add(Conv2D(64, (3, 3), activation='relu'))\n",
    "model.add(MaxPooling2D(pool_size=(2, 2)))\n",
    "model.add(Dropout(0.25))\n",
    "model.add(Flatten())\n",
    "model.add(Dense(500, activation='relu'))\n",
    "model.add(Dense(2, activation='softmax'))"
   ]
  },
  {
   "cell_type": "code",
   "execution_count": 43,
   "metadata": {},
   "outputs": [],
   "source": [
    "model.compile(loss='binary_crossentropy', optimizer='adam', metrics=['accuracy'])"
   ]
  },
  {
   "cell_type": "code",
   "execution_count": 44,
   "metadata": {},
   "outputs": [],
   "source": [
    "tf.keras.backend.clear_session()"
   ]
  },
  {
   "cell_type": "code",
   "execution_count": 45,
   "metadata": {
    "scrolled": true
   },
   "outputs": [
    {
     "name": "stdout",
     "output_type": "stream",
     "text": [
      "Epoch 1/100\n",
      "220/220 [==============================] - 94s 427ms/step - loss: 0.7163 - accuracy: 0.5747 - val_loss: 0.5937 - val_accuracy: 0.7256\n",
      "Epoch 2/100\n",
      "220/220 [==============================] - 94s 427ms/step - loss: 0.6123 - accuracy: 0.6741 - val_loss: 0.5326 - val_accuracy: 0.7324\n",
      "Epoch 3/100\n",
      "220/220 [==============================] - 92s 417ms/step - loss: 0.5677 - accuracy: 0.7016 - val_loss: 0.4503 - val_accuracy: 0.7926\n",
      "Epoch 4/100\n",
      "220/220 [==============================] - 92s 420ms/step - loss: 0.5323 - accuracy: 0.7294 - val_loss: 0.3984 - val_accuracy: 0.8131\n",
      "Epoch 5/100\n",
      "220/220 [==============================] - 92s 420ms/step - loss: 0.4985 - accuracy: 0.7521 - val_loss: 0.3742 - val_accuracy: 0.8341\n",
      "Epoch 6/100\n",
      "220/220 [==============================] - 94s 426ms/step - loss: 0.4699 - accuracy: 0.7686 - val_loss: 0.3737 - val_accuracy: 0.8403\n",
      "Epoch 7/100\n",
      "220/220 [==============================] - 85s 385ms/step - loss: 0.4578 - accuracy: 0.7844 - val_loss: 0.3978 - val_accuracy: 0.8284\n",
      "Epoch 8/100\n",
      "220/220 [==============================] - 81s 368ms/step - loss: 0.4389 - accuracy: 0.7976 - val_loss: 0.3816 - val_accuracy: 0.8290\n",
      "Epoch 9/100\n",
      "220/220 [==============================] - 81s 368ms/step - loss: 0.4307 - accuracy: 0.8003 - val_loss: 0.3630 - val_accuracy: 0.8534\n",
      "Epoch 10/100\n",
      "220/220 [==============================] - 81s 368ms/step - loss: 0.4067 - accuracy: 0.8170 - val_loss: 0.3340 - val_accuracy: 0.8557\n",
      "Epoch 11/100\n",
      "220/220 [==============================] - 82s 371ms/step - loss: 0.4016 - accuracy: 0.8220 - val_loss: 0.3413 - val_accuracy: 0.8562\n",
      "Epoch 12/100\n",
      "220/220 [==============================] - 94s 429ms/step - loss: 0.3892 - accuracy: 0.8250 - val_loss: 0.3359 - val_accuracy: 0.8591\n",
      "Epoch 13/100\n",
      "220/220 [==============================] - 86s 393ms/step - loss: 0.3824 - accuracy: 0.8358 - val_loss: 0.3207 - val_accuracy: 0.8739\n",
      "Epoch 14/100\n",
      "220/220 [==============================] - 98s 447ms/step - loss: 0.3719 - accuracy: 0.8415 - val_loss: 0.3058 - val_accuracy: 0.8744\n",
      "Epoch 15/100\n",
      "220/220 [==============================] - 92s 419ms/step - loss: 0.3678 - accuracy: 0.8376 - val_loss: 0.3250 - val_accuracy: 0.8659\n",
      "Epoch 16/100\n",
      "220/220 [==============================] - 97s 439ms/step - loss: 0.3636 - accuracy: 0.8446 - val_loss: 0.3071 - val_accuracy: 0.8739\n",
      "Epoch 17/100\n",
      "220/220 [==============================] - 93s 422ms/step - loss: 0.3473 - accuracy: 0.8517 - val_loss: 0.3081 - val_accuracy: 0.8744\n",
      "Epoch 18/100\n",
      "220/220 [==============================] - 89s 404ms/step - loss: 0.3481 - accuracy: 0.8493 - val_loss: 0.3107 - val_accuracy: 0.8784\n",
      "Epoch 19/100\n",
      "220/220 [==============================] - 86s 391ms/step - loss: 0.3366 - accuracy: 0.8554 - val_loss: 0.3312 - val_accuracy: 0.8597\n",
      "Epoch 20/100\n",
      "220/220 [==============================] - 97s 441ms/step - loss: 0.3277 - accuracy: 0.8592 - val_loss: 0.3013 - val_accuracy: 0.8676\n",
      "Epoch 21/100\n",
      "220/220 [==============================] - 86s 393ms/step - loss: 0.3293 - accuracy: 0.8582 - val_loss: 0.3083 - val_accuracy: 0.8716\n",
      "Epoch 22/100\n",
      "220/220 [==============================] - 87s 396ms/step - loss: 0.3273 - accuracy: 0.8609 - val_loss: 0.2861 - val_accuracy: 0.8784\n",
      "Epoch 23/100\n",
      "220/220 [==============================] - 90s 407ms/step - loss: 0.3221 - accuracy: 0.8643 - val_loss: 0.3009 - val_accuracy: 0.8778\n",
      "Epoch 24/100\n",
      "220/220 [==============================] - 83s 376ms/step - loss: 0.3173 - accuracy: 0.8663 - val_loss: 0.2919 - val_accuracy: 0.8807\n",
      "Epoch 25/100\n",
      "220/220 [==============================] - 88s 400ms/step - loss: 0.3131 - accuracy: 0.8689 - val_loss: 0.2909 - val_accuracy: 0.8847\n",
      "Epoch 26/100\n",
      "220/220 [==============================] - 87s 395ms/step - loss: 0.3035 - accuracy: 0.8734 - val_loss: 0.2819 - val_accuracy: 0.8869\n",
      "Epoch 27/100\n",
      "220/220 [==============================] - 100s 453ms/step - loss: 0.3065 - accuracy: 0.8743 - val_loss: 0.2955 - val_accuracy: 0.8761\n",
      "Epoch 28/100\n",
      "220/220 [==============================] - 103s 468ms/step - loss: 0.3020 - accuracy: 0.8719 - val_loss: 0.2883 - val_accuracy: 0.8915\n",
      "Epoch 29/100\n",
      "220/220 [==============================] - 96s 437ms/step - loss: 0.3061 - accuracy: 0.8719 - val_loss: 0.2847 - val_accuracy: 0.8869\n",
      "Epoch 30/100\n",
      "220/220 [==============================] - 82s 374ms/step - loss: 0.2959 - accuracy: 0.8798 - val_loss: 0.2981 - val_accuracy: 0.8733\n",
      "Epoch 31/100\n",
      "220/220 [==============================] - 86s 391ms/step - loss: 0.2933 - accuracy: 0.8757 - val_loss: 0.2877 - val_accuracy: 0.8858\n",
      "Epoch 32/100\n",
      "220/220 [==============================] - 83s 376ms/step - loss: 0.2898 - accuracy: 0.8824 - val_loss: 0.3083 - val_accuracy: 0.8756\n",
      "Epoch 33/100\n",
      "220/220 [==============================] - 91s 415ms/step - loss: 0.2903 - accuracy: 0.8845 - val_loss: 0.2985 - val_accuracy: 0.8790\n",
      "Epoch 34/100\n",
      "220/220 [==============================] - 94s 426ms/step - loss: 0.2900 - accuracy: 0.8776 - val_loss: 0.2877 - val_accuracy: 0.8852\n",
      "Epoch 35/100\n",
      "220/220 [==============================] - 84s 380ms/step - loss: 0.2912 - accuracy: 0.8815 - val_loss: 0.2754 - val_accuracy: 0.8830\n",
      "Epoch 36/100\n",
      "220/220 [==============================] - 95s 430ms/step - loss: 0.2819 - accuracy: 0.8855 - val_loss: 0.2751 - val_accuracy: 0.8852\n",
      "Epoch 37/100\n",
      "220/220 [==============================] - 93s 424ms/step - loss: 0.2873 - accuracy: 0.8842 - val_loss: 0.2672 - val_accuracy: 0.9023\n",
      "Epoch 38/100\n",
      "220/220 [==============================] - 86s 389ms/step - loss: 0.2743 - accuracy: 0.8884 - val_loss: 0.2815 - val_accuracy: 0.8864\n",
      "Epoch 39/100\n",
      "220/220 [==============================] - 87s 397ms/step - loss: 0.2725 - accuracy: 0.8859 - val_loss: 0.2697 - val_accuracy: 0.8926\n",
      "Epoch 40/100\n",
      "220/220 [==============================] - 89s 405ms/step - loss: 0.2754 - accuracy: 0.8889 - val_loss: 0.2923 - val_accuracy: 0.8881\n",
      "Epoch 41/100\n",
      "220/220 [==============================] - 90s 407ms/step - loss: 0.2701 - accuracy: 0.8923 - val_loss: 0.2858 - val_accuracy: 0.8841\n",
      "Epoch 42/100\n",
      "220/220 [==============================] - 83s 378ms/step - loss: 0.2682 - accuracy: 0.8922 - val_loss: 0.2823 - val_accuracy: 0.8903\n",
      "Epoch 43/100\n",
      "220/220 [==============================] - 83s 378ms/step - loss: 0.2673 - accuracy: 0.8913 - val_loss: 0.2830 - val_accuracy: 0.8835\n",
      "Epoch 44/100\n",
      "220/220 [==============================] - 82s 372ms/step - loss: 0.2679 - accuracy: 0.8901 - val_loss: 0.2681 - val_accuracy: 0.8903\n",
      "Epoch 45/100\n",
      "220/220 [==============================] - 88s 402ms/step - loss: 0.2731 - accuracy: 0.8911 - val_loss: 0.2777 - val_accuracy: 0.8920\n",
      "Epoch 46/100\n",
      "220/220 [==============================] - 81s 369ms/step - loss: 0.2624 - accuracy: 0.8933 - val_loss: 0.2628 - val_accuracy: 0.8915\n",
      "Epoch 47/100\n",
      "220/220 [==============================] - 84s 382ms/step - loss: 0.2647 - accuracy: 0.8939 - val_loss: 0.2496 - val_accuracy: 0.8977\n"
     ]
    }
   ],
   "source": [
    "epochs = 100 # for training, for testing use 25\n",
    "\n",
    "early_stop = EarlyStopping(monitor = 'val_accuracy', min_delta=0, patience=10, mode='auto', restore_best_weights = True)\n",
    "\n",
    "history = model.fit_generator(datagen.flow(X_train, y_train),\n",
    "          epochs = epochs,\n",
    "          callbacks = [early_stop],\n",
    "          verbose = 1,\n",
    "          validation_data = (X_test, y_test))"
   ]
  },
  {
   "cell_type": "code",
   "execution_count": 48,
   "metadata": {},
   "outputs": [
    {
     "data": {
      "image/png": "[encoded data removed]",
      "text/plain": [
       "<Figure size 432x288 with 1 Axes>"
      ]
     },
     "metadata": {
      "needs_background": "light"
     },
     "output_type": "display_data"
    }
   ],
   "source": [
    "# plot loss history through epochs\n",
    "plt.plot(history.history['loss'], label='Train loss')\n",
    "plt.plot(history.history['val_loss'], label='Val Loss')\n",
    "plt.legend();"
   ]
  },
  {
   "cell_type": "code",
   "execution_count": 49,
   "metadata": {},
   "outputs": [
    {
     "data": {
      "image/png": "[encoded data removed]",
      "text/plain": [
       "<Figure size 432x288 with 1 Axes>"
      ]
     },
     "metadata": {
      "needs_background": "light"
     },
     "output_type": "display_data"
    }
   ],
   "source": [
    "# plot accuracy history through epochs\n",
    "plt.plot(history.history['accuracy'], label='Train accuracy')\n",
    "plt.plot(history.history['val_accuracy'], label='Val accuracy')\n",
    "plt.legend();"
   ]
  },
  {
   "cell_type": "code",
   "execution_count": 50,
   "metadata": {},
   "outputs": [
    {
     "name": "stdout",
     "output_type": "stream",
     "text": [
      "Model: \"sequential\"\n",
      "_________________________________________________________________\n",
      "Layer (type)                 Output Shape              Param #   \n",
      "=================================================================\n",
      "conv2d (Conv2D)              (None, 98, 98, 32)        320       \n",
      "_________________________________________________________________\n",
      "max_pooling2d (MaxPooling2D) (None, 49, 49, 32)        0         \n",
      "_________________________________________________________________\n",
      "dropout (Dropout)            (None, 49, 49, 32)        0         \n",
      "_________________________________________________________________\n",
      "conv2d_1 (Conv2D)            (None, 47, 47, 64)        18496     \n",
      "_________________________________________________________________\n",
      "max_pooling2d_1 (MaxPooling2 (None, 23, 23, 64)        0         \n",
      "_________________________________________________________________\n",
      "dropout_1 (Dropout)          (None, 23, 23, 64)        0         \n",
      "_________________________________________________________________\n",
      "flatten (Flatten)            (None, 33856)             0         \n",
      "_________________________________________________________________\n",
      "dense (Dense)                (None, 500)               16928500  \n",
      "_________________________________________________________________\n",
      "dense_1 (Dense)              (None, 2)                 1002      \n",
      "=================================================================\n",
      "Total params: 16,948,318\n",
      "Trainable params: 16,948,318\n",
      "Non-trainable params: 0\n",
      "_________________________________________________________________\n"
     ]
    }
   ],
   "source": [
    "model.summary()"
   ]
  },
  {
   "cell_type": "code",
   "execution_count": 51,
   "metadata": {},
   "outputs": [],
   "source": [
    "# save the model in a HDF5 file 'my_model.h5'\n",
    "model.save('./models/my_model.h5')"
   ]
  },
  {
   "cell_type": "markdown",
   "metadata": {},
   "source": [
    "This CNN model can predict smiles with an accuracy of approx . This is already pretty good. \n",
    "\n",
    "We can later come back to improve the model.\n",
    "\n",
    "Some ideas for improvements include:\n",
    "- Relabel dataset to ensure images are correctly categorized as smile or no smile\n",
    "- Optimizing neural network parameters\n",
    "- Increasing dataset\n",
    "- Using larger image sizes\n",
    "- Using RGB images instead of grayscale"
   ]
  },
  {
   "cell_type": "markdown",
   "metadata": {},
   "source": [
    "# Finally, testing it out!\n",
    "Now that we have our model, I created a Flask app to import some new images (taken from a webcam) and predict if the person in the image is smiling or not. Also for a sanity check to see how well the model can be used with new images!"
   ]
  },
  {
   "cell_type": "markdown",
   "metadata": {},
   "source": [
    "The app can be generated with the following files:\n",
    "\n",
    "- `app.py`: main application to run\n",
    "- `camera.py`: contains Camera object to capture live video feed and `get_frame()` function return image with a bounding box marked around the face and text indicating smile probabilities\n",
    "- `smile_recognition.py`: contains `predict_smile()` function which takes in an image frame and returns smile predictions"
   ]
  }
 ],
 "metadata": {
  "kernelspec": {
   "display_name": "Python 3",
   "language": "python",
   "name": "python3"
  },
  "language_info": {
   "codemirror_mode": {
    "name": "ipython",
    "version": 3
   },
   "file_extension": ".py",
   "mimetype": "text/x-python",
   "name": "python",
   "nbconvert_exporter": "python",
   "pygments_lexer": "ipython3",
   "version": "3.6.8"
  }
 },
 "nbformat": 4,
 "nbformat_minor": 2
}
