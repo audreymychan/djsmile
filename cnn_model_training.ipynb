{
 "cells": [
  {
   "cell_type": "markdown",
   "metadata": {},
   "source": []
  },
  {
   "cell_type": "code",
   "execution_count": 1,
   "metadata": {},
   "outputs": [],
   "source": [
    "import os"
   ]
  },
  {
   "cell_type": "code",
   "execution_count": 2,
   "metadata": {},
   "outputs": [],
   "source": [
    "from PIL import Image\n",
    "\n",
    "# # converting file format to .png\n",
    "search_terms = ['no smile', 'smile']\n",
    "\n",
    "# for term in search_terms:\n",
    "#     orig_path = f'./{term}'\n",
    "#     new_path = f'./{term}_png'\n",
    "#     os.makedirs(new_path)\n",
    "#     for img_filename in os.listdir(orig_path):    \n",
    "#         if img_filename.endswith('.jpg'):\n",
    "#             img = Image.open(f'{orig_path}/{img_filename}')\n",
    "#             img.save(f'{new_path}/{img_filename.replace(\"jpg\", \"png\")}')"
   ]
  },
  {
   "cell_type": "markdown",
   "metadata": {},
   "source": [
    "# Using the Image class"
   ]
  },
  {
   "cell_type": "code",
   "execution_count": 3,
   "metadata": {},
   "outputs": [
    {
     "name": "stdout",
     "output_type": "stream",
     "text": [
      "Pillow Version: 5.4.1\n"
     ]
    }
   ],
   "source": [
    "# check Pillow version number\n",
    "import PIL\n",
    "print('Pillow Version:', PIL.__version__)"
   ]
  },
  {
   "cell_type": "code",
   "execution_count": 4,
   "metadata": {},
   "outputs": [],
   "source": [
    "# load image with Pillow\n",
    "from PIL import Image\n",
    "\n",
    "img = Image.open('./smile_png/0.png')"
   ]
  },
  {
   "cell_type": "code",
   "execution_count": 5,
   "metadata": {},
   "outputs": [
    {
     "name": "stdout",
     "output_type": "stream",
     "text": [
      "PNG (612, 408) RGB\n"
     ]
    }
   ],
   "source": [
    "# summarize some details about the image\n",
    "from __future__ import print_function\n",
    "print(img.format, img.size, img.mode)"
   ]
  },
  {
   "cell_type": "code",
   "execution_count": 6,
   "metadata": {},
   "outputs": [],
   "source": [
    "# show the image\n",
    "# img.show()"
   ]
  },
  {
   "cell_type": "markdown",
   "metadata": {},
   "source": [
    "# Reshape"
   ]
  },
  {
   "cell_type": "code",
   "execution_count": 7,
   "metadata": {},
   "outputs": [],
   "source": [
    "# need to except errors if file size coming in is not as expected\n",
    "# crop middle, 300x300\n",
    "# crop_width, crop_height = (300, 300)\n",
    "\n",
    "# for term in search_terms:\n",
    "#     orig_path = f'./{term}'\n",
    "#     new_path = f'./{term}_cropped'\n",
    "#     os.makedirs(new_path)\n",
    "#     for img_filename in os.listdir(orig_path):  \n",
    "#         if img_filename.endswith('.jpg'):\n",
    "#             img = Image.open(f'{orig_path}/{img_filename}')\n",
    "#             width, height = img.size\n",
    "#             crop_left = (width/2) - (crop_width/2)\n",
    "#             crop_upper = (height/2) - (crop_height/2)\n",
    "#             crop_right = (width/2) + (crop_width/2)\n",
    "#             crop_lower = (height/2) + (crop_height/2)\n",
    "#             img_resized = img.crop((crop_left, crop_upper, crop_right, crop_lower))\n",
    "#             img_resized.save(f'{new_path}/{img_filename}')"
   ]
  },
  {
   "cell_type": "code",
   "execution_count": 8,
   "metadata": {},
   "outputs": [],
   "source": [
    "# !pip install face_recognition\n",
    "# !pip install dlib"
   ]
  },
  {
   "cell_type": "code",
   "execution_count": 9,
   "metadata": {},
   "outputs": [],
   "source": [
    "import face_recognition\n",
    "\n",
    "# put it error check if img less than 300x300, or face bigger than 300x300"
   ]
  },
  {
   "cell_type": "code",
   "execution_count": 10,
   "metadata": {},
   "outputs": [],
   "source": [
    "# height, width = (300, 300)\n",
    "\n",
    "# # overwritting ones with multiple faces in images\n",
    "\n",
    "# for term in search_terms:\n",
    "#     orig_path = f'./{term}'\n",
    "#     new_path = f'./{term}_grey_crop'\n",
    "#     os.makedirs(new_path)\n",
    "#     for img_filename in os.listdir(orig_path):  \n",
    "#         if img_filename.endswith('.jpg'):\n",
    "#             img = Image.open(f'{orig_path}/{img_filename}')\n",
    "#             img_greyscale = img.convert(\"L\")\n",
    "#             # load image into a numpy array\n",
    "#             image = face_recognition.load_image_file(f'{orig_path}/{img_filename}')\n",
    "#             face_locations = face_recognition.face_locations(image) # model = 'cnn' (more accurate but way slower)\n",
    "#             if len(face_locations) == 1:\n",
    "#                 top, right, bottom, left = face_locations[0]\n",
    "#                 face_height_midpoint = (bottom - top)/2 + top\n",
    "#                 face_width_midpoint = (right - left)/2 + left\n",
    "#                 crop_locations = (face_width_midpoint-(width/2), \n",
    "#                                   face_height_midpoint-(height/2), \n",
    "#                                   face_width_midpoint+(width/2), \n",
    "#                                   face_height_midpoint+(height/2))\n",
    "#                 img_resized = img_greyscale.crop(crop_locations)\n",
    "#                 img_resized.save(f'{new_path}/{img_filename}')\n",
    "                    \n",
    "# # then manually looked at the pictures with multiple faces, and kept appropriate ones"
   ]
  },
  {
   "cell_type": "code",
   "execution_count": 11,
   "metadata": {},
   "outputs": [],
   "source": [
    "# resize only cropped faces\n",
    "# can later explore different filters for resizing (better for sizing up or down?)\n",
    "\n",
    "img_width, img_height = (100, 100)\n",
    "\n",
    "# overwritting ones with multiple faces in images\n",
    "\n",
    "# for term in search_terms:\n",
    "#     orig_path = f'./{term}'\n",
    "#     new_path = f'./{term}_grey_crop_face'\n",
    "#     os.makedirs(new_path)\n",
    "#     for img_filename in os.listdir(orig_path):  \n",
    "#         if img_filename.endswith('.jpg'):\n",
    "#             img = Image.open(f'{orig_path}/{img_filename}')\n",
    "#             img_greyscale = img.convert(\"L\")\n",
    "#             # load image into a numpy array\n",
    "#             image = face_recognition.load_image_file(f'{orig_path}/{img_filename}')\n",
    "#             face_locations = face_recognition.face_locations(image) # model = 'cnn' (more accurate but way slower)\n",
    "#             if len(face_locations) == 1:\n",
    "#                 top, right, bottom, left = face_locations[0]\n",
    "#                 box = (left, top, right, bottom)\n",
    "#                 img_resized = img_greyscale.resize((img_width, img_height), box = box)\n",
    "#                 img_resized.save(f'{new_path}/{img_filename}')\n",
    "                    \n",
    "# then manually looked at the pictures with multiple faces, and kept appropriate ones"
   ]
  },
  {
   "cell_type": "code",
   "execution_count": 12,
   "metadata": {},
   "outputs": [],
   "source": [
    "# left with 4_494 no_smiles\n",
    "# left with 5_182 smiles"
   ]
  },
  {
   "cell_type": "markdown",
   "metadata": {},
   "source": [
    "# Data Preprocessing"
   ]
  },
  {
   "cell_type": "code",
   "execution_count": 13,
   "metadata": {},
   "outputs": [],
   "source": [
    "# configure random transformations and normalization operations to be done on your image data during training\n",
    "\n",
    "from tensorflow.keras.preprocessing.image import ImageDataGenerator\n",
    "\n",
    "datagen = ImageDataGenerator(\n",
    "        rotation_range=30,\n",
    "        width_shift_range=0.1,\n",
    "        height_shift_range=0.1,\n",
    "        shear_range=0.2,\n",
    "        horizontal_flip=True,\n",
    "        fill_mode='nearest')"
   ]
  },
  {
   "cell_type": "markdown",
   "metadata": {},
   "source": [
    "# Convert Images to NumPy Arrays"
   ]
  },
  {
   "cell_type": "code",
   "execution_count": 14,
   "metadata": {},
   "outputs": [],
   "source": [
    "# 1000 pictures for now from each smile and no smile\n",
    "\n",
    "from tensorflow.keras.preprocessing.image import ImageDataGenerator, array_to_img, img_to_array, load_img\n",
    "# also similar functions in pillow, but shape different using img_to_array?\n",
    "\n",
    "X = []\n",
    "y = []\n",
    "\n",
    "for term in search_terms:\n",
    "    path = f'./{term}_grey_crop_face'\n",
    "    image_nos = os.listdir(path)\n",
    "    for image_no in range(0, 4300):\n",
    "        img = Image.open(f'{path}/{image_nos[image_no]}')\n",
    "        img_array = img_to_array(img) # this is a Numpy array with shape (300, 300, 1)\n",
    "        X.append(img_array)\n",
    "        y.append(term)"
   ]
  },
  {
   "cell_type": "code",
   "execution_count": 15,
   "metadata": {},
   "outputs": [],
   "source": [
    "# convert to np.array\n",
    "import numpy as np\n",
    "X = np.array(X)\n",
    "y = np.array(y)"
   ]
  },
  {
   "cell_type": "code",
   "execution_count": 16,
   "metadata": {},
   "outputs": [
    {
     "data": {
      "text/plain": [
       "(8600, 100, 100, 1)"
      ]
     },
     "execution_count": 16,
     "metadata": {},
     "output_type": "execute_result"
    }
   ],
   "source": [
    "X.shape"
   ]
  },
  {
   "cell_type": "code",
   "execution_count": 17,
   "metadata": {},
   "outputs": [
    {
     "data": {
      "text/plain": [
       "(8600,)"
      ]
     },
     "execution_count": 17,
     "metadata": {},
     "output_type": "execute_result"
    }
   ],
   "source": [
    "y.shape"
   ]
  },
  {
   "cell_type": "code",
   "execution_count": 18,
   "metadata": {},
   "outputs": [
    {
     "data": {
      "text/plain": [
       "(100, 100, 1)"
      ]
     },
     "execution_count": 18,
     "metadata": {},
     "output_type": "execute_result"
    }
   ],
   "source": [
    "X[0].shape"
   ]
  },
  {
   "cell_type": "code",
   "execution_count": 19,
   "metadata": {},
   "outputs": [
    {
     "data": {
      "text/plain": [
       "array([[[187.],\n",
       "        [170.],\n",
       "        [182.],\n",
       "        ...,\n",
       "        [134.],\n",
       "        [122.],\n",
       "        [121.]],\n",
       "\n",
       "       [[183.],\n",
       "        [174.],\n",
       "        [165.],\n",
       "        ...,\n",
       "        [135.],\n",
       "        [124.],\n",
       "        [121.]],\n",
       "\n",
       "       [[179.],\n",
       "        [175.],\n",
       "        [141.],\n",
       "        ...,\n",
       "        [133.],\n",
       "        [126.],\n",
       "        [120.]],\n",
       "\n",
       "       ...,\n",
       "\n",
       "       [[ 49.],\n",
       "        [ 46.],\n",
       "        [ 39.],\n",
       "        ...,\n",
       "        [ 24.],\n",
       "        [ 25.],\n",
       "        [ 27.]],\n",
       "\n",
       "       [[ 46.],\n",
       "        [ 44.],\n",
       "        [ 38.],\n",
       "        ...,\n",
       "        [ 24.],\n",
       "        [ 26.],\n",
       "        [ 27.]],\n",
       "\n",
       "       [[ 43.],\n",
       "        [ 42.],\n",
       "        [ 37.],\n",
       "        ...,\n",
       "        [ 25.],\n",
       "        [ 26.],\n",
       "        [ 27.]]], dtype=float32)"
      ]
     },
     "execution_count": 19,
     "metadata": {},
     "output_type": "execute_result"
    }
   ],
   "source": [
    "X[0]"
   ]
  },
  {
   "cell_type": "code",
   "execution_count": 20,
   "metadata": {},
   "outputs": [
    {
     "data": {
      "text/plain": [
       "<matplotlib.image.AxesImage at 0xb2f3f5550>"
      ]
     },
     "execution_count": 20,
     "metadata": {},
     "output_type": "execute_result"
    },
    {
     "data": {
      "image/png": "[encoded data removed]",
      "text/plain": [
       "<Figure size 432x288 with 1 Axes>"
      ]
     },
     "metadata": {
      "needs_background": "light"
     },
     "output_type": "display_data"
    }
   ],
   "source": [
    "import matplotlib.pyplot as plt\n",
    "%matplotlib inline  \n",
    "plt.imshow(X[0].reshape(img_width, img_height), cmap = 'Greys')"
   ]
  },
  {
   "cell_type": "code",
   "execution_count": 21,
   "metadata": {},
   "outputs": [
    {
     "data": {
      "image/png": "[encoded data removed]",
      "text/plain": [
       "<PIL.Image.Image image mode=L size=100x100 at 0xB2F4FC208>"
      ]
     },
     "execution_count": 21,
     "metadata": {},
     "output_type": "execute_result"
    }
   ],
   "source": [
    "new_image = array_to_img(X[0])\n",
    "new_image"
   ]
  },
  {
   "cell_type": "code",
   "execution_count": 22,
   "metadata": {},
   "outputs": [
    {
     "data": {
      "text/plain": [
       "8600"
      ]
     },
     "execution_count": 22,
     "metadata": {},
     "output_type": "execute_result"
    }
   ],
   "source": [
    "len(y)"
   ]
  },
  {
   "cell_type": "markdown",
   "metadata": {},
   "source": [
    "# Train Test Split"
   ]
  },
  {
   "cell_type": "code",
   "execution_count": 85,
   "metadata": {},
   "outputs": [],
   "source": [
    "from sklearn.model_selection import train_test_split\n",
    "X_train, X_test, y_train, y_test = train_test_split(X, y, test_size = 0.2, random_state = 42, stratify = y)"
   ]
  },
  {
   "cell_type": "markdown",
   "metadata": {},
   "source": [
    "# Transforms"
   ]
  },
  {
   "cell_type": "code",
   "execution_count": 86,
   "metadata": {},
   "outputs": [],
   "source": [
    "from sklearn.preprocessing import MinMaxScaler\n",
    "X_train = X_train.reshape(X_train.shape[0], img_width*img_height)\n",
    "X_test = X_test.reshape(X_test.shape[0], img_width*img_height)\n",
    "\n",
    "scaler = MinMaxScaler()\n",
    "X_train = scaler.fit_transform(X_train)\n",
    "X_test = scaler.transform(X_test)"
   ]
  },
  {
   "cell_type": "code",
   "execution_count": 87,
   "metadata": {},
   "outputs": [
    {
     "data": {
      "text/plain": [
       "['scaler.save']"
      ]
     },
     "execution_count": 87,
     "metadata": {},
     "output_type": "execute_result"
    }
   ],
   "source": [
    "from sklearn.externals import joblib\n",
    "scaler_filename = \"scaler.save\"\n",
    "joblib.dump(scaler, scaler_filename) "
   ]
  },
  {
   "cell_type": "code",
   "execution_count": 25,
   "metadata": {},
   "outputs": [],
   "source": [
    "X_train = X_train.reshape(X_train.shape[0], img_width, img_height, 1)\n",
    "X_test = X_test.reshape(X_test.shape[0], img_width, img_height, 1)"
   ]
  },
  {
   "cell_type": "code",
   "execution_count": 26,
   "metadata": {},
   "outputs": [
    {
     "data": {
      "text/plain": [
       "(6880, 100, 100, 1)"
      ]
     },
     "execution_count": 26,
     "metadata": {},
     "output_type": "execute_result"
    }
   ],
   "source": [
    "X_train.shape"
   ]
  },
  {
   "cell_type": "code",
   "execution_count": 27,
   "metadata": {},
   "outputs": [
    {
     "data": {
      "text/plain": [
       "(1720, 100, 100, 1)"
      ]
     },
     "execution_count": 27,
     "metadata": {},
     "output_type": "execute_result"
    }
   ],
   "source": [
    "X_test.shape"
   ]
  },
  {
   "cell_type": "code",
   "execution_count": 28,
   "metadata": {},
   "outputs": [],
   "source": [
    "from tensorflow.keras.utils import to_categorical"
   ]
  },
  {
   "cell_type": "code",
   "execution_count": 29,
   "metadata": {},
   "outputs": [],
   "source": [
    "from sklearn.preprocessing import LabelEncoder\n",
    "\n",
    "encoder = LabelEncoder()\n",
    "encoder.fit(y_train)\n",
    "encoded_y_train = encoder.transform(y_train)\n",
    "encoded_y_test = encoder.transform(y_test)\n",
    "\n",
    "y_train = to_categorical(encoded_y_train)\n",
    "y_test = to_categorical(encoded_y_test)"
   ]
  },
  {
   "cell_type": "code",
   "execution_count": 30,
   "metadata": {},
   "outputs": [
    {
     "data": {
      "text/plain": [
       "array([[1., 0.],\n",
       "       [1., 0.],\n",
       "       [0., 1.],\n",
       "       [0., 1.],\n",
       "       [1., 0.],\n",
       "       [0., 1.],\n",
       "       [0., 1.],\n",
       "       [1., 0.],\n",
       "       [0., 1.],\n",
       "       [0., 1.]], dtype=float32)"
      ]
     },
     "execution_count": 30,
     "metadata": {},
     "output_type": "execute_result"
    }
   ],
   "source": [
    "y_train[0:10]"
   ]
  },
  {
   "cell_type": "code",
   "execution_count": 31,
   "metadata": {},
   "outputs": [
    {
     "data": {
      "image/png": "[encoded data removed]",
      "text/plain": [
       "<PIL.Image.Image image mode=L size=100x100 at 0xB301FE438>"
      ]
     },
     "execution_count": 31,
     "metadata": {},
     "output_type": "execute_result"
    }
   ],
   "source": [
    "array_to_img(X_train[1])"
   ]
  },
  {
   "cell_type": "markdown",
   "metadata": {},
   "source": [
    "# Modeling"
   ]
  },
  {
   "cell_type": "code",
   "execution_count": 32,
   "metadata": {},
   "outputs": [
    {
     "data": {
      "text/plain": [
       "(100, 100, 1)"
      ]
     },
     "execution_count": 32,
     "metadata": {},
     "output_type": "execute_result"
    }
   ],
   "source": [
    "X_train.shape[1:]"
   ]
  },
  {
   "cell_type": "code",
   "execution_count": 33,
   "metadata": {},
   "outputs": [],
   "source": [
    "import tensorflow as tf\n",
    "from tensorflow import keras\n",
    "\n",
    "from tensorflow.keras.models import Sequential\n",
    "from tensorflow.keras.layers import Input, Conv2D, MaxPooling2D, Dropout, Dense, Flatten"
   ]
  },
  {
   "cell_type": "code",
   "execution_count": 34,
   "metadata": {},
   "outputs": [],
   "source": [
    "# model = Sequential()\n",
    "\n",
    "# model.add(Input(shape = (img_width, img_height, 1)))\n",
    "# model.add(Conv2D(32, kernel_size=(3, 3), activation='relu'))\n",
    "# model.add(MaxPooling2D(pool_size=(2, 2)))\n",
    "# model.add(Dropout(0.25))\n",
    "# model.add(Conv2D(64, (3, 3), activation='relu'))\n",
    "# model.add(MaxPooling2D(pool_size=(2, 2)))\n",
    "# model.add(Dropout(0.25))\n",
    "# model.add(Flatten())\n",
    "# model.add(Dense(500, activation='relu'))\n",
    "# model.add(Dense(2, activation='softmax'))"
   ]
  },
  {
   "cell_type": "code",
   "execution_count": 35,
   "metadata": {},
   "outputs": [],
   "source": [
    "model = Sequential()\n",
    "\n",
    "model.add(Conv2D(32, kernel_size=(3, 3), activation='relu', input_shape=(img_width, img_height, 1)))\n",
    "model.add(MaxPooling2D(pool_size=(2, 2)))\n",
    "model.add(Dropout(0.25))\n",
    "model.add(Conv2D(64, (3, 3), activation='relu'))\n",
    "model.add(MaxPooling2D(pool_size=(2, 2)))\n",
    "model.add(Dropout(0.25))\n",
    "model.add(Flatten())\n",
    "model.add(Dense(500, activation='relu'))\n",
    "model.add(Dense(2, activation='softmax'))"
   ]
  },
  {
   "cell_type": "code",
   "execution_count": 36,
   "metadata": {},
   "outputs": [],
   "source": [
    "model.compile(loss='binary_crossentropy', optimizer='adam', metrics=['accuracy'])"
   ]
  },
  {
   "cell_type": "code",
   "execution_count": 37,
   "metadata": {},
   "outputs": [
    {
     "name": "stdout",
     "output_type": "stream",
     "text": [
      "(6880, 100, 100, 1)\n",
      "(1720, 100, 100, 1)\n",
      "(6880, 2)\n",
      "(1720, 2)\n"
     ]
    }
   ],
   "source": [
    "print(X_train.shape)\n",
    "print(X_test.shape)\n",
    "print(y_train.shape)\n",
    "print(y_test.shape)"
   ]
  },
  {
   "cell_type": "code",
   "execution_count": 38,
   "metadata": {},
   "outputs": [
    {
     "data": {
      "text/plain": [
       "(100, 100, 1)"
      ]
     },
     "execution_count": 38,
     "metadata": {},
     "output_type": "execute_result"
    }
   ],
   "source": [
    "X_train.shape[1:]"
   ]
  },
  {
   "cell_type": "code",
   "execution_count": 39,
   "metadata": {},
   "outputs": [],
   "source": [
    "tf.keras.backend.clear_session()"
   ]
  },
  {
   "cell_type": "code",
   "execution_count": 40,
   "metadata": {},
   "outputs": [],
   "source": [
    "from tensorflow.keras.callbacks import EarlyStopping"
   ]
  },
  {
   "cell_type": "code",
   "execution_count": 41,
   "metadata": {
    "scrolled": true
   },
   "outputs": [
    {
     "name": "stdout",
     "output_type": "stream",
     "text": [
      "Epoch 1/100\n",
      "215/215 [==============================] - 96s 446ms/step - loss: 0.7028 - accuracy: 0.5683 - val_loss: 0.5926 - val_accuracy: 0.7023\n",
      "Epoch 2/100\n",
      "215/215 [==============================] - 93s 433ms/step - loss: 0.5884 - accuracy: 0.6892 - val_loss: 0.4653 - val_accuracy: 0.7907\n",
      "Epoch 3/100\n",
      "215/215 [==============================] - 87s 403ms/step - loss: 0.5481 - accuracy: 0.7182 - val_loss: 0.4585 - val_accuracy: 0.7814\n",
      "Epoch 4/100\n",
      "215/215 [==============================] - 85s 397ms/step - loss: 0.5091 - accuracy: 0.7439 - val_loss: 0.4260 - val_accuracy: 0.8017\n",
      "Epoch 5/100\n",
      "215/215 [==============================] - 82s 382ms/step - loss: 0.4921 - accuracy: 0.7597 - val_loss: 0.3900 - val_accuracy: 0.8355\n",
      "Epoch 6/100\n",
      "215/215 [==============================] - 87s 405ms/step - loss: 0.4739 - accuracy: 0.7765 - val_loss: 0.4111 - val_accuracy: 0.8093\n",
      "Epoch 7/100\n",
      "215/215 [==============================] - 89s 412ms/step - loss: 0.4496 - accuracy: 0.7914 - val_loss: 0.3729 - val_accuracy: 0.8436\n",
      "Epoch 8/100\n",
      "215/215 [==============================] - 92s 429ms/step - loss: 0.4383 - accuracy: 0.7967 - val_loss: 0.3777 - val_accuracy: 0.8343\n",
      "Epoch 9/100\n",
      "215/215 [==============================] - 92s 430ms/step - loss: 0.4175 - accuracy: 0.8106 - val_loss: 0.3566 - val_accuracy: 0.8529\n",
      "Epoch 10/100\n",
      "215/215 [==============================] - 83s 387ms/step - loss: 0.4154 - accuracy: 0.8150 - val_loss: 0.3455 - val_accuracy: 0.8564\n",
      "Epoch 11/100\n",
      "215/215 [==============================] - 84s 391ms/step - loss: 0.4123 - accuracy: 0.8138 - val_loss: 0.3488 - val_accuracy: 0.8529\n",
      "Epoch 12/100\n",
      "215/215 [==============================] - 90s 417ms/step - loss: 0.3960 - accuracy: 0.8205 - val_loss: 0.3858 - val_accuracy: 0.8320\n",
      "Epoch 13/100\n",
      "215/215 [==============================] - 91s 422ms/step - loss: 0.3919 - accuracy: 0.8288 - val_loss: 0.3326 - val_accuracy: 0.8651\n",
      "Epoch 14/100\n",
      "215/215 [==============================] - 91s 422ms/step - loss: 0.3806 - accuracy: 0.8301 - val_loss: 0.3242 - val_accuracy: 0.8593\n",
      "Epoch 15/100\n",
      "215/215 [==============================] - 80s 373ms/step - loss: 0.3647 - accuracy: 0.8371 - val_loss: 0.3375 - val_accuracy: 0.8488\n",
      "Epoch 16/100\n",
      "215/215 [==============================] - 80s 374ms/step - loss: 0.3599 - accuracy: 0.8424 - val_loss: 0.3506 - val_accuracy: 0.8494\n",
      "Epoch 17/100\n",
      "215/215 [==============================] - 79s 369ms/step - loss: 0.3517 - accuracy: 0.8478 - val_loss: 0.3013 - val_accuracy: 0.8791\n",
      "Epoch 18/100\n",
      "215/215 [==============================] - 83s 384ms/step - loss: 0.3488 - accuracy: 0.8483 - val_loss: 0.3015 - val_accuracy: 0.8820\n",
      "Epoch 19/100\n",
      "215/215 [==============================] - 77s 357ms/step - loss: 0.3452 - accuracy: 0.8483 - val_loss: 0.2948 - val_accuracy: 0.8860\n",
      "Epoch 20/100\n",
      "215/215 [==============================] - 93s 434ms/step - loss: 0.3425 - accuracy: 0.8533 - val_loss: 0.3323 - val_accuracy: 0.8605\n",
      "Epoch 21/100\n",
      "215/215 [==============================] - 83s 385ms/step - loss: 0.3370 - accuracy: 0.8574 - val_loss: 0.2915 - val_accuracy: 0.8791\n",
      "Epoch 22/100\n",
      "215/215 [==============================] - 80s 372ms/step - loss: 0.3289 - accuracy: 0.8596 - val_loss: 0.2821 - val_accuracy: 0.8901\n",
      "Epoch 23/100\n",
      "215/215 [==============================] - 79s 366ms/step - loss: 0.3206 - accuracy: 0.8692 - val_loss: 0.2711 - val_accuracy: 0.8919\n",
      "Epoch 24/100\n",
      "215/215 [==============================] - 80s 374ms/step - loss: 0.3228 - accuracy: 0.8641 - val_loss: 0.2785 - val_accuracy: 0.8942\n",
      "Epoch 25/100\n",
      "215/215 [==============================] - 81s 375ms/step - loss: 0.3127 - accuracy: 0.8731 - val_loss: 0.2701 - val_accuracy: 0.8971\n",
      "Epoch 26/100\n",
      "215/215 [==============================] - 84s 393ms/step - loss: 0.3092 - accuracy: 0.8679 - val_loss: 0.2826 - val_accuracy: 0.8948\n",
      "Epoch 27/100\n",
      "215/215 [==============================] - 94s 435ms/step - loss: 0.3085 - accuracy: 0.8701 - val_loss: 0.3149 - val_accuracy: 0.8738\n",
      "Epoch 28/100\n",
      "215/215 [==============================] - 88s 407ms/step - loss: 0.3147 - accuracy: 0.8651 - val_loss: 0.2893 - val_accuracy: 0.8860\n",
      "Epoch 29/100\n",
      "215/215 [==============================] - 92s 428ms/step - loss: 0.3114 - accuracy: 0.8672 - val_loss: 0.3016 - val_accuracy: 0.8779\n",
      "Epoch 30/100\n",
      "215/215 [==============================] - 81s 377ms/step - loss: 0.3059 - accuracy: 0.8728 - val_loss: 0.2964 - val_accuracy: 0.8791\n",
      "Epoch 31/100\n",
      "215/215 [==============================] - 78s 364ms/step - loss: 0.2958 - accuracy: 0.8786 - val_loss: 0.2766 - val_accuracy: 0.8901\n",
      "Epoch 32/100\n",
      "215/215 [==============================] - 85s 395ms/step - loss: 0.3005 - accuracy: 0.8717 - val_loss: 0.2796 - val_accuracy: 0.8907\n",
      "Epoch 33/100\n",
      "215/215 [==============================] - 86s 398ms/step - loss: 0.2928 - accuracy: 0.8808 - val_loss: 0.2892 - val_accuracy: 0.8919\n",
      "Epoch 34/100\n",
      "215/215 [==============================] - 83s 386ms/step - loss: 0.2909 - accuracy: 0.8802 - val_loss: 0.2821 - val_accuracy: 0.8831\n",
      "Epoch 35/100\n",
      "215/215 [==============================] - 88s 408ms/step - loss: 0.2930 - accuracy: 0.8766 - val_loss: 0.2824 - val_accuracy: 0.8924\n"
     ]
    }
   ],
   "source": [
    "epochs = 100 # for testing, for training use 25\n",
    "# callbacks=[tf.keras.callbacks.TensorBoard(log_dir = \"tb_log\", histogram_freq = 0)]\n",
    "\n",
    "early_stop = EarlyStopping(monitor = 'val_accuracy', min_delta=0, patience=10, mode='auto', restore_best_weights = True)\n",
    "\n",
    "history = model.fit_generator(datagen.flow(X_train, y_train),\n",
    "          epochs = epochs,\n",
    "          callbacks = [early_stop],\n",
    "          verbose = 1,\n",
    "          validation_data = (X_test, y_test))"
   ]
  },
  {
   "cell_type": "code",
   "execution_count": 42,
   "metadata": {},
   "outputs": [
    {
     "data": {
      "image/png": "[encoded data removed]",
      "text/plain": [
       "<Figure size 432x288 with 1 Axes>"
      ]
     },
     "metadata": {
      "needs_background": "light"
     },
     "output_type": "display_data"
    }
   ],
   "source": [
    "# put in early stopping\n",
    "\n",
    "plt.plot(history.history['loss'], label='Train loss')\n",
    "plt.plot(history.history['val_loss'], label='Val Loss')\n",
    "plt.legend();"
   ]
  },
  {
   "cell_type": "code",
   "execution_count": 43,
   "metadata": {},
   "outputs": [
    {
     "data": {
      "image/png": "[encoded data removed]",
      "text/plain": [
       "<Figure size 432x288 with 1 Axes>"
      ]
     },
     "metadata": {
      "needs_background": "light"
     },
     "output_type": "display_data"
    }
   ],
   "source": [
    "plt.plot(history.history['accuracy'], label='Train accuracy')\n",
    "plt.plot(history.history['val_accuracy'], label='Val accuracy')\n",
    "plt.legend();"
   ]
  },
  {
   "cell_type": "code",
   "execution_count": 64,
   "metadata": {},
   "outputs": [
    {
     "data": {
      "image/png": "[encoded data removed]",
      "text/plain": [
       "<PIL.Image.Image image mode=L size=100x100 at 0xB361FACC0>"
      ]
     },
     "execution_count": 64,
     "metadata": {},
     "output_type": "execute_result"
    }
   ],
   "source": [
    "array_to_img(X_test[100])"
   ]
  },
  {
   "cell_type": "code",
   "execution_count": 65,
   "metadata": {},
   "outputs": [
    {
     "ename": "NameError",
     "evalue": "name 'model' is not defined",
     "output_type": "error",
     "traceback": [
      "\u001b[0;31m---------------------------------------------------------------------------\u001b[0m",
      "\u001b[0;31mNameError\u001b[0m                                 Traceback (most recent call last)",
      "\u001b[0;32m<ipython-input-65-6a86a1a1cb9e>\u001b[0m in \u001b[0;36m<module>\u001b[0;34m\u001b[0m\n\u001b[0;32m----> 1\u001b[0;31m \u001b[0mmodel\u001b[0m\u001b[0;34m.\u001b[0m\u001b[0mpredict\u001b[0m\u001b[0;34m(\u001b[0m\u001b[0mX_test\u001b[0m\u001b[0;34m[\u001b[0m\u001b[0;36m100\u001b[0m\u001b[0;34m:\u001b[0m\u001b[0;36m101\u001b[0m\u001b[0;34m]\u001b[0m\u001b[0;34m)\u001b[0m\u001b[0;34m\u001b[0m\u001b[0;34m\u001b[0m\u001b[0m\n\u001b[0m",
      "\u001b[0;31mNameError\u001b[0m: name 'model' is not defined"
     ]
    }
   ],
   "source": [
    "model.predict(X_test[100:101])"
   ]
  },
  {
   "cell_type": "code",
   "execution_count": 46,
   "metadata": {},
   "outputs": [
    {
     "data": {
      "image/png": "[encoded data removed]",
      "text/plain": [
       "<PIL.Image.Image image mode=L size=100x100 at 0xB34C32400>"
      ]
     },
     "execution_count": 46,
     "metadata": {},
     "output_type": "execute_result"
    }
   ],
   "source": [
    "array_to_img(X_test[5])"
   ]
  },
  {
   "cell_type": "code",
   "execution_count": 47,
   "metadata": {},
   "outputs": [
    {
     "data": {
      "text/plain": [
       "array([[0.296994, 0.703006]], dtype=float32)"
      ]
     },
     "execution_count": 47,
     "metadata": {},
     "output_type": "execute_result"
    }
   ],
   "source": [
    "# [no smile, smile]\n",
    "model.predict(X_test[5:6])"
   ]
  },
  {
   "cell_type": "code",
   "execution_count": 48,
   "metadata": {},
   "outputs": [
    {
     "data": {
      "image/png": "[encoded data removed]",
      "text/plain": [
       "<PIL.Image.Image image mode=L size=100x100 at 0xB34C32710>"
      ]
     },
     "execution_count": 48,
     "metadata": {},
     "output_type": "execute_result"
    }
   ],
   "source": [
    "array_to_img(X_test[100])"
   ]
  },
  {
   "cell_type": "code",
   "execution_count": 49,
   "metadata": {},
   "outputs": [
    {
     "data": {
      "text/plain": [
       "array([[0.80920535, 0.19079466]], dtype=float32)"
      ]
     },
     "execution_count": 49,
     "metadata": {},
     "output_type": "execute_result"
    }
   ],
   "source": [
    "model.predict(X_test[100:101])"
   ]
  },
  {
   "cell_type": "code",
   "execution_count": 50,
   "metadata": {},
   "outputs": [
    {
     "data": {
      "image/png": "[encoded data removed]",
      "text/plain": [
       "<PIL.Image.Image image mode=L size=100x100 at 0xB34C46080>"
      ]
     },
     "execution_count": 50,
     "metadata": {},
     "output_type": "execute_result"
    }
   ],
   "source": [
    "array_to_img(X_test[102])"
   ]
  },
  {
   "cell_type": "code",
   "execution_count": 51,
   "metadata": {},
   "outputs": [
    {
     "data": {
      "text/plain": [
       "(1, 100, 100, 1)"
      ]
     },
     "execution_count": 51,
     "metadata": {},
     "output_type": "execute_result"
    }
   ],
   "source": [
    "X_test[102:103].shape"
   ]
  },
  {
   "cell_type": "code",
   "execution_count": 52,
   "metadata": {},
   "outputs": [
    {
     "data": {
      "text/plain": [
       "array([[[[0.9215687 ],\n",
       "         [0.9176471 ],\n",
       "         [0.91372555],\n",
       "         ...,\n",
       "         [0.5254902 ],\n",
       "         [0.44705886],\n",
       "         [0.46274513]],\n",
       "\n",
       "        [[0.9215687 ],\n",
       "         [0.9176471 ],\n",
       "         [0.91372555],\n",
       "         ...,\n",
       "         [0.6       ],\n",
       "         [0.4666667 ],\n",
       "         [0.57254905]],\n",
       "\n",
       "        [[0.9215687 ],\n",
       "         [0.9176471 ],\n",
       "         [0.91372555],\n",
       "         ...,\n",
       "         [0.6392157 ],\n",
       "         [0.41960788],\n",
       "         [0.48235297]],\n",
       "\n",
       "        ...,\n",
       "\n",
       "        [[0.7607844 ],\n",
       "         [0.7803922 ],\n",
       "         [0.7607844 ],\n",
       "         ...,\n",
       "         [0.40784317],\n",
       "         [0.6627451 ],\n",
       "         [0.6392157 ]],\n",
       "\n",
       "        [[0.78823537],\n",
       "         [0.7960785 ],\n",
       "         [0.78823537],\n",
       "         ...,\n",
       "         [0.4431373 ],\n",
       "         [0.6627451 ],\n",
       "         [0.65882355]],\n",
       "\n",
       "        [[0.8000001 ],\n",
       "         [0.7960785 ],\n",
       "         [0.8000001 ],\n",
       "         ...,\n",
       "         [0.43137258],\n",
       "         [0.6431373 ],\n",
       "         [0.6745098 ]]]], dtype=float32)"
      ]
     },
     "execution_count": 52,
     "metadata": {},
     "output_type": "execute_result"
    }
   ],
   "source": [
    "X_test[102:103]"
   ]
  },
  {
   "cell_type": "code",
   "execution_count": 53,
   "metadata": {},
   "outputs": [
    {
     "data": {
      "text/plain": [
       "array([[0.22031793, 0.7796821 ]], dtype=float32)"
      ]
     },
     "execution_count": 53,
     "metadata": {},
     "output_type": "execute_result"
    }
   ],
   "source": [
    "model.predict(X_test[102:103])"
   ]
  },
  {
   "cell_type": "code",
   "execution_count": 54,
   "metadata": {},
   "outputs": [
    {
     "name": "stdout",
     "output_type": "stream",
     "text": [
      "Model: \"sequential\"\n",
      "_________________________________________________________________\n",
      "Layer (type)                 Output Shape              Param #   \n",
      "=================================================================\n",
      "conv2d (Conv2D)              (None, 98, 98, 32)        320       \n",
      "_________________________________________________________________\n",
      "max_pooling2d (MaxPooling2D) (None, 49, 49, 32)        0         \n",
      "_________________________________________________________________\n",
      "dropout (Dropout)            (None, 49, 49, 32)        0         \n",
      "_________________________________________________________________\n",
      "conv2d_1 (Conv2D)            (None, 47, 47, 64)        18496     \n",
      "_________________________________________________________________\n",
      "max_pooling2d_1 (MaxPooling2 (None, 23, 23, 64)        0         \n",
      "_________________________________________________________________\n",
      "dropout_1 (Dropout)          (None, 23, 23, 64)        0         \n",
      "_________________________________________________________________\n",
      "flatten (Flatten)            (None, 33856)             0         \n",
      "_________________________________________________________________\n",
      "dense (Dense)                (None, 500)               16928500  \n",
      "_________________________________________________________________\n",
      "dense_1 (Dense)              (None, 2)                 1002      \n",
      "=================================================================\n",
      "Total params: 16,948,318\n",
      "Trainable params: 16,948,318\n",
      "Non-trainable params: 0\n",
      "_________________________________________________________________\n"
     ]
    }
   ],
   "source": [
    "model.summary()"
   ]
  },
  {
   "cell_type": "code",
   "execution_count": 55,
   "metadata": {},
   "outputs": [],
   "source": [
    "from tensorflow.keras.models import load_model\n",
    "\n",
    "# Creates a HDF5 file 'my_model.h5'\n",
    "model.save('my_model.h5')\n",
    "\n",
    "# Deletes the existing model\n",
    "del model  "
   ]
  },
  {
   "cell_type": "markdown",
   "metadata": {},
   "source": [
    "# Bringing in new image"
   ]
  },
  {
   "cell_type": "code",
   "execution_count": 56,
   "metadata": {},
   "outputs": [],
   "source": [
    "from PIL import Image\n",
    "import face_recognition\n",
    "from tensorflow.keras.preprocessing.image import img_to_array\n",
    "import h5py\n",
    "from tensorflow.keras.models import load_model\n",
    "from sklearn.preprocessing import MinMaxScaler\n",
    "img_width, img_height = (100, 100)\n",
    "\n",
    "# returns a compiled model\n",
    "# identical to the previous one\n",
    "# Returns a compiled model identical to the previous one\n",
    "new_model = load_model('my_model.h5')\n",
    "new_model.compile(loss='binary_crossentropy', optimizer='adam', metrics=['accuracy'])"
   ]
  },
  {
   "cell_type": "code",
   "execution_count": 80,
   "metadata": {},
   "outputs": [],
   "source": [
    "def predict_smile (file_name):\n",
    "\n",
    "    new_img = Image.open(file_name)\n",
    "\n",
    "    # reshape\n",
    "    new_img_greyscale = new_img.convert(\"L\")\n",
    "    print(img_to_array(new_img_greyscale).shape)\n",
    "    \n",
    "    # load image into a numpy array\n",
    "    new_image = face_recognition.load_image_file(file_name)\n",
    "    face_locations = face_recognition.face_locations(new_image) # model = 'cnn' (more accurate but way slower)\n",
    "    if len(face_locations) == 1:\n",
    "        top, right, bottom, left = face_locations[0]\n",
    "        box = (left, top, right, bottom)\n",
    "        new_img_resized = new_img_greyscale.resize((img_width, img_height), box = box)\n",
    "        new_img_resized.save(f'preprocessed_{file_name}')\n",
    "    else:\n",
    "        print('Image must have 1 person')\n",
    "\n",
    "    img = Image.open(f'preprocessed_{file_name}')\n",
    "\n",
    "    new_img_array = img_to_array(img)\n",
    "    \n",
    "    new_img_array = np.array(new_img_array)\n",
    "    \n",
    "    new_img_array = new_img_array.reshape(1, img_width*img_height)\n",
    "    \n",
    "    new_img_array = scaler.transform(new_img_array)\n",
    "    \n",
    "    new_img_array = new_img_array.reshape(1, img_width, img_height, 1)\n",
    "    \n",
    "    return new_img_array"
   ]
  },
  {
   "cell_type": "code",
   "execution_count": 81,
   "metadata": {},
   "outputs": [
    {
     "name": "stdout",
     "output_type": "stream",
     "text": [
      "(147, 220, 1)\n",
      "(183, 275, 1)\n",
      "(273, 185, 1)\n",
      "(194, 259, 1)\n",
      "(612, 473, 1)\n",
      "(217, 232, 1)\n",
      "(225, 225, 1)\n",
      "(183, 275, 1)\n",
      "(223, 226, 1)\n",
      "(183, 275, 1)\n",
      "(225, 225, 1)\n"
     ]
    },
    {
     "data": {
      "image/png": "[encoded data removed]",
      "text/plain": [
       "<Figure size 1224x72 with 12 Axes>"
      ]
     },
     "metadata": {
      "needs_background": "light"
     },
     "output_type": "display_data"
    }
   ],
   "source": [
    "_, image = plt.subplots(1, 12, figsize=(17, 1))\n",
    "\n",
    "for pic in range(1,12):\n",
    "    pic_array = predict_smile(f'test{pic}.jpg')\n",
    "    image[pic].imshow(pic_array.reshape(img_width, img_height))\n",
    "    image[pic].set_title(np.argmax(new_model.predict(pic_array)))\n",
    "    image[pic].set_xticks([])\n",
    "    image[pic].set_yticks([])"
   ]
  },
  {
   "cell_type": "code",
   "execution_count": 74,
   "metadata": {},
   "outputs": [
    {
     "data": {
      "image/png": "[encoded data removed]",
      "text/plain": [
       "<PIL.Image.Image image mode=L size=100x100 at 0xB35E80160>"
      ]
     },
     "execution_count": 74,
     "metadata": {},
     "output_type": "execute_result"
    }
   ],
   "source": [
    "array_to_img(X_test[500])"
   ]
  },
  {
   "cell_type": "code",
   "execution_count": 75,
   "metadata": {},
   "outputs": [
    {
     "data": {
      "text/plain": [
       "array([[0.00821791, 0.99178207]], dtype=float32)"
      ]
     },
     "execution_count": 75,
     "metadata": {},
     "output_type": "execute_result"
    }
   ],
   "source": [
    "new_model.predict(X_test[500:501])"
   ]
  },
  {
   "cell_type": "code",
   "execution_count": null,
   "metadata": {},
   "outputs": [],
   "source": []
  }
 ],
 "metadata": {
  "kernelspec": {
   "display_name": "Python 3",
   "language": "python",
   "name": "python3"
  },
  "language_info": {
   "codemirror_mode": {
    "name": "ipython",
    "version": 3
   },
   "file_extension": ".py",
   "mimetype": "text/x-python",
   "name": "python",
   "nbconvert_exporter": "python",
   "pygments_lexer": "ipython3",
   "version": "3.6.8"
  }
 },
 "nbformat": 4,
 "nbformat_minor": 2
}
